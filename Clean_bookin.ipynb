{
 "cells": [
  {
   "cell_type": "markdown",
   "metadata": {},
   "source": [
    "# Booking "
   ]
  },
  {
   "cell_type": "code",
   "execution_count": 17,
   "metadata": {},
   "outputs": [],
   "source": [
    "import pandas as pd\n",
    "import numpy as np"
   ]
  },
  {
   "cell_type": "code",
   "execution_count": 18,
   "metadata": {
    "scrolled": true
   },
   "outputs": [
    {
     "data": {
      "text/html": [
       "<div>\n",
       "<style scoped>\n",
       "    .dataframe tbody tr th:only-of-type {\n",
       "        vertical-align: middle;\n",
       "    }\n",
       "\n",
       "    .dataframe tbody tr th {\n",
       "        vertical-align: top;\n",
       "    }\n",
       "\n",
       "    .dataframe thead th {\n",
       "        text-align: right;\n",
       "    }\n",
       "</style>\n",
       "<table border=\"1\" class=\"dataframe\">\n",
       "  <thead>\n",
       "    <tr style=\"text-align: right;\">\n",
       "      <th></th>\n",
       "      <th>Unnamed: 0</th>\n",
       "      <th>Unnamed: 0.1</th>\n",
       "      <th>Hotel_name</th>\n",
       "      <th>Are</th>\n",
       "      <th>Review</th>\n",
       "      <th>price</th>\n",
       "      <th>url</th>\n",
       "      <th>facilities</th>\n",
       "      <th>checklist_facilities</th>\n",
       "      <th>city</th>\n",
       "    </tr>\n",
       "  </thead>\n",
       "  <tbody>\n",
       "    <tr>\n",
       "      <td>0</td>\n",
       "      <td>0</td>\n",
       "      <td>0</td>\n",
       "      <td>Madinah Mövenpick Hotel</td>\n",
       "      <td>&lt;span data-bui-component=\"Tooltip\" data-toolti...</td>\n",
       "      <td>&lt;div aria-label=\"Scored 7.6 \" class=\"bui-revie...</td>\n",
       "      <td>\\nSAR 599\\n</td>\n",
       "      <td>https://booking.com/hotel/sa/madinah-movenpick...</td>\n",
       "      <td>[&lt;div class=\"important_facility\" data-name-en=...</td>\n",
       "      <td>[&lt;div class=\"facilitiesChecklistSection\" data-...</td>\n",
       "      <td>Madinah</td>\n",
       "    </tr>\n",
       "    <tr>\n",
       "      <td>1</td>\n",
       "      <td>1</td>\n",
       "      <td>1</td>\n",
       "      <td>Dar Al Hijra InterContinental</td>\n",
       "      <td>&lt;span data-bui-component=\"Tooltip\" data-toolti...</td>\n",
       "      <td>&lt;div aria-label=\"Scored 7.9 \" class=\"bui-revie...</td>\n",
       "      <td>\\nSAR 618\\n</td>\n",
       "      <td>https://booking.com/hotel/sa/dar-al-hijra-inte...</td>\n",
       "      <td>[&lt;div class=\"important_facility\" data-name-en=...</td>\n",
       "      <td>[&lt;div class=\"facilitiesChecklistSection\" data-...</td>\n",
       "      <td>Madinah</td>\n",
       "    </tr>\n",
       "    <tr>\n",
       "      <td>2</td>\n",
       "      <td>2</td>\n",
       "      <td>2</td>\n",
       "      <td>Al Madinah Harmony Hotel</td>\n",
       "      <td>&lt;span data-bui-component=\"Tooltip\" data-toolti...</td>\n",
       "      <td>&lt;div aria-label=\"Scored 7.2 \" class=\"bui-revie...</td>\n",
       "      <td>\\nSAR 440\\n</td>\n",
       "      <td>https://booking.com/hotel/sa/al-madinah-harmon...</td>\n",
       "      <td>[&lt;div class=\"important_facility\" data-name-en=...</td>\n",
       "      <td>[&lt;div class=\"facilitiesChecklistSection\" data-...</td>\n",
       "      <td>Madinah</td>\n",
       "    </tr>\n",
       "    <tr>\n",
       "      <td>3</td>\n",
       "      <td>3</td>\n",
       "      <td>3</td>\n",
       "      <td>Millennium Madinah Airport</td>\n",
       "      <td>&lt;span data-bui-component=\"Tooltip\" data-toolti...</td>\n",
       "      <td>&lt;div aria-label=\"Scored 8.3 \" class=\"bui-revie...</td>\n",
       "      <td>\\nSAR 550\\n</td>\n",
       "      <td>https://booking.com/hotel/sa/millennium-madina...</td>\n",
       "      <td>[&lt;div class=\"important_facility\" data-name-en=...</td>\n",
       "      <td>[&lt;div class=\"facilitiesChecklistSection\" data-...</td>\n",
       "      <td>Madinah</td>\n",
       "    </tr>\n",
       "    <tr>\n",
       "      <td>4</td>\n",
       "      <td>4</td>\n",
       "      <td>4</td>\n",
       "      <td>Marina Palace Hotel</td>\n",
       "      <td>&lt;span data-bui-component=\"Tooltip\" data-toolti...</td>\n",
       "      <td>&lt;div aria-label=\"Scored 7.5 \" class=\"bui-revie...</td>\n",
       "      <td>\\nSAR 7,935\\n</td>\n",
       "      <td>https://booking.com/hotel/sa/marina-palace.htm...</td>\n",
       "      <td>[&lt;div class=\"important_facility\" data-name-en=...</td>\n",
       "      <td>[&lt;div class=\"facilitiesChecklistSection\" data-...</td>\n",
       "      <td>Madinah</td>\n",
       "    </tr>\n",
       "  </tbody>\n",
       "</table>\n",
       "</div>"
      ],
      "text/plain": [
       "   Unnamed: 0  Unnamed: 0.1                     Hotel_name  \\\n",
       "0           0             0        Madinah Mövenpick Hotel   \n",
       "1           1             1  Dar Al Hijra InterContinental   \n",
       "2           2             2       Al Madinah Harmony Hotel   \n",
       "3           3             3     Millennium Madinah Airport   \n",
       "4           4             4            Marina Palace Hotel   \n",
       "\n",
       "                                                 Are  \\\n",
       "0  <span data-bui-component=\"Tooltip\" data-toolti...   \n",
       "1  <span data-bui-component=\"Tooltip\" data-toolti...   \n",
       "2  <span data-bui-component=\"Tooltip\" data-toolti...   \n",
       "3  <span data-bui-component=\"Tooltip\" data-toolti...   \n",
       "4  <span data-bui-component=\"Tooltip\" data-toolti...   \n",
       "\n",
       "                                              Review          price  \\\n",
       "0  <div aria-label=\"Scored 7.6 \" class=\"bui-revie...    \\nSAR 599\\n   \n",
       "1  <div aria-label=\"Scored 7.9 \" class=\"bui-revie...    \\nSAR 618\\n   \n",
       "2  <div aria-label=\"Scored 7.2 \" class=\"bui-revie...    \\nSAR 440\\n   \n",
       "3  <div aria-label=\"Scored 8.3 \" class=\"bui-revie...    \\nSAR 550\\n   \n",
       "4  <div aria-label=\"Scored 7.5 \" class=\"bui-revie...  \\nSAR 7,935\\n   \n",
       "\n",
       "                                                 url  \\\n",
       "0  https://booking.com/hotel/sa/madinah-movenpick...   \n",
       "1  https://booking.com/hotel/sa/dar-al-hijra-inte...   \n",
       "2  https://booking.com/hotel/sa/al-madinah-harmon...   \n",
       "3  https://booking.com/hotel/sa/millennium-madina...   \n",
       "4  https://booking.com/hotel/sa/marina-palace.htm...   \n",
       "\n",
       "                                          facilities  \\\n",
       "0  [<div class=\"important_facility\" data-name-en=...   \n",
       "1  [<div class=\"important_facility\" data-name-en=...   \n",
       "2  [<div class=\"important_facility\" data-name-en=...   \n",
       "3  [<div class=\"important_facility\" data-name-en=...   \n",
       "4  [<div class=\"important_facility\" data-name-en=...   \n",
       "\n",
       "                                checklist_facilities     city  \n",
       "0  [<div class=\"facilitiesChecklistSection\" data-...  Madinah  \n",
       "1  [<div class=\"facilitiesChecklistSection\" data-...  Madinah  \n",
       "2  [<div class=\"facilitiesChecklistSection\" data-...  Madinah  \n",
       "3  [<div class=\"facilitiesChecklistSection\" data-...  Madinah  \n",
       "4  [<div class=\"facilitiesChecklistSection\" data-...  Madinah  "
      ]
     },
     "execution_count": 18,
     "metadata": {},
     "output_type": "execute_result"
    }
   ],
   "source": [
    "df = pd.read_csv(\"booking.com_saudi_cities.csv\")\n",
    "df.head()"
   ]
  },
  {
   "cell_type": "code",
   "execution_count": 19,
   "metadata": {},
   "outputs": [
    {
     "data": {
      "text/html": [
       "<div>\n",
       "<style scoped>\n",
       "    .dataframe tbody tr th:only-of-type {\n",
       "        vertical-align: middle;\n",
       "    }\n",
       "\n",
       "    .dataframe tbody tr th {\n",
       "        vertical-align: top;\n",
       "    }\n",
       "\n",
       "    .dataframe thead th {\n",
       "        text-align: right;\n",
       "    }\n",
       "</style>\n",
       "<table border=\"1\" class=\"dataframe\">\n",
       "  <thead>\n",
       "    <tr style=\"text-align: right;\">\n",
       "      <th></th>\n",
       "      <th>Hotel_name</th>\n",
       "      <th>Are</th>\n",
       "      <th>Review</th>\n",
       "      <th>price</th>\n",
       "      <th>url</th>\n",
       "      <th>facilities</th>\n",
       "      <th>checklist_facilities</th>\n",
       "      <th>city</th>\n",
       "    </tr>\n",
       "  </thead>\n",
       "  <tbody>\n",
       "    <tr>\n",
       "      <td>0</td>\n",
       "      <td>Madinah Mövenpick Hotel</td>\n",
       "      <td>&lt;span data-bui-component=\"Tooltip\" data-toolti...</td>\n",
       "      <td>&lt;div aria-label=\"Scored 7.6 \" class=\"bui-revie...</td>\n",
       "      <td>\\nSAR 599\\n</td>\n",
       "      <td>https://booking.com/hotel/sa/madinah-movenpick...</td>\n",
       "      <td>[&lt;div class=\"important_facility\" data-name-en=...</td>\n",
       "      <td>[&lt;div class=\"facilitiesChecklistSection\" data-...</td>\n",
       "      <td>Madinah</td>\n",
       "    </tr>\n",
       "    <tr>\n",
       "      <td>1</td>\n",
       "      <td>Dar Al Hijra InterContinental</td>\n",
       "      <td>&lt;span data-bui-component=\"Tooltip\" data-toolti...</td>\n",
       "      <td>&lt;div aria-label=\"Scored 7.9 \" class=\"bui-revie...</td>\n",
       "      <td>\\nSAR 618\\n</td>\n",
       "      <td>https://booking.com/hotel/sa/dar-al-hijra-inte...</td>\n",
       "      <td>[&lt;div class=\"important_facility\" data-name-en=...</td>\n",
       "      <td>[&lt;div class=\"facilitiesChecklistSection\" data-...</td>\n",
       "      <td>Madinah</td>\n",
       "    </tr>\n",
       "    <tr>\n",
       "      <td>2</td>\n",
       "      <td>Al Madinah Harmony Hotel</td>\n",
       "      <td>&lt;span data-bui-component=\"Tooltip\" data-toolti...</td>\n",
       "      <td>&lt;div aria-label=\"Scored 7.2 \" class=\"bui-revie...</td>\n",
       "      <td>\\nSAR 440\\n</td>\n",
       "      <td>https://booking.com/hotel/sa/al-madinah-harmon...</td>\n",
       "      <td>[&lt;div class=\"important_facility\" data-name-en=...</td>\n",
       "      <td>[&lt;div class=\"facilitiesChecklistSection\" data-...</td>\n",
       "      <td>Madinah</td>\n",
       "    </tr>\n",
       "    <tr>\n",
       "      <td>3</td>\n",
       "      <td>Millennium Madinah Airport</td>\n",
       "      <td>&lt;span data-bui-component=\"Tooltip\" data-toolti...</td>\n",
       "      <td>&lt;div aria-label=\"Scored 8.3 \" class=\"bui-revie...</td>\n",
       "      <td>\\nSAR 550\\n</td>\n",
       "      <td>https://booking.com/hotel/sa/millennium-madina...</td>\n",
       "      <td>[&lt;div class=\"important_facility\" data-name-en=...</td>\n",
       "      <td>[&lt;div class=\"facilitiesChecklistSection\" data-...</td>\n",
       "      <td>Madinah</td>\n",
       "    </tr>\n",
       "    <tr>\n",
       "      <td>4</td>\n",
       "      <td>Marina Palace Hotel</td>\n",
       "      <td>&lt;span data-bui-component=\"Tooltip\" data-toolti...</td>\n",
       "      <td>&lt;div aria-label=\"Scored 7.5 \" class=\"bui-revie...</td>\n",
       "      <td>\\nSAR 7,935\\n</td>\n",
       "      <td>https://booking.com/hotel/sa/marina-palace.htm...</td>\n",
       "      <td>[&lt;div class=\"important_facility\" data-name-en=...</td>\n",
       "      <td>[&lt;div class=\"facilitiesChecklistSection\" data-...</td>\n",
       "      <td>Madinah</td>\n",
       "    </tr>\n",
       "  </tbody>\n",
       "</table>\n",
       "</div>"
      ],
      "text/plain": [
       "                      Hotel_name  \\\n",
       "0        Madinah Mövenpick Hotel   \n",
       "1  Dar Al Hijra InterContinental   \n",
       "2       Al Madinah Harmony Hotel   \n",
       "3     Millennium Madinah Airport   \n",
       "4            Marina Palace Hotel   \n",
       "\n",
       "                                                 Are  \\\n",
       "0  <span data-bui-component=\"Tooltip\" data-toolti...   \n",
       "1  <span data-bui-component=\"Tooltip\" data-toolti...   \n",
       "2  <span data-bui-component=\"Tooltip\" data-toolti...   \n",
       "3  <span data-bui-component=\"Tooltip\" data-toolti...   \n",
       "4  <span data-bui-component=\"Tooltip\" data-toolti...   \n",
       "\n",
       "                                              Review          price  \\\n",
       "0  <div aria-label=\"Scored 7.6 \" class=\"bui-revie...    \\nSAR 599\\n   \n",
       "1  <div aria-label=\"Scored 7.9 \" class=\"bui-revie...    \\nSAR 618\\n   \n",
       "2  <div aria-label=\"Scored 7.2 \" class=\"bui-revie...    \\nSAR 440\\n   \n",
       "3  <div aria-label=\"Scored 8.3 \" class=\"bui-revie...    \\nSAR 550\\n   \n",
       "4  <div aria-label=\"Scored 7.5 \" class=\"bui-revie...  \\nSAR 7,935\\n   \n",
       "\n",
       "                                                 url  \\\n",
       "0  https://booking.com/hotel/sa/madinah-movenpick...   \n",
       "1  https://booking.com/hotel/sa/dar-al-hijra-inte...   \n",
       "2  https://booking.com/hotel/sa/al-madinah-harmon...   \n",
       "3  https://booking.com/hotel/sa/millennium-madina...   \n",
       "4  https://booking.com/hotel/sa/marina-palace.htm...   \n",
       "\n",
       "                                          facilities  \\\n",
       "0  [<div class=\"important_facility\" data-name-en=...   \n",
       "1  [<div class=\"important_facility\" data-name-en=...   \n",
       "2  [<div class=\"important_facility\" data-name-en=...   \n",
       "3  [<div class=\"important_facility\" data-name-en=...   \n",
       "4  [<div class=\"important_facility\" data-name-en=...   \n",
       "\n",
       "                                checklist_facilities     city  \n",
       "0  [<div class=\"facilitiesChecklistSection\" data-...  Madinah  \n",
       "1  [<div class=\"facilitiesChecklistSection\" data-...  Madinah  \n",
       "2  [<div class=\"facilitiesChecklistSection\" data-...  Madinah  \n",
       "3  [<div class=\"facilitiesChecklistSection\" data-...  Madinah  \n",
       "4  [<div class=\"facilitiesChecklistSection\" data-...  Madinah  "
      ]
     },
     "execution_count": 19,
     "metadata": {},
     "output_type": "execute_result"
    }
   ],
   "source": [
    "df = df.iloc[:, 2:] # only need my data colum \n",
    "df.head()"
   ]
  },
  {
   "cell_type": "markdown",
   "metadata": {},
   "source": [
    "# chicking missing data "
   ]
  },
  {
   "cell_type": "code",
   "execution_count": 20,
   "metadata": {},
   "outputs": [
    {
     "data": {
      "text/plain": [
       "Hotel_name                0\n",
       "Are                       0\n",
       " Review                 107\n",
       " price                    0\n",
       "url                       0\n",
       "facilities                0\n",
       "checklist_facilities      0\n",
       "city                      0\n",
       "dtype: int64"
      ]
     },
     "execution_count": 20,
     "metadata": {},
     "output_type": "execute_result"
    }
   ],
   "source": [
    "df.isnull().sum() # I found null values and I want to fill them"
   ]
  },
  {
   "cell_type": "markdown",
   "metadata": {},
   "source": [
    "# Cleaning "
   ]
  },
  {
   "cell_type": "code",
   "execution_count": 21,
   "metadata": {},
   "outputs": [],
   "source": [
    "# clean non null values to get the average and fill null values with average\n",
    "for i in range(len(df[\" Review\"])):\n",
    "    try:\n",
    "        df[\" Review\"][i] = df[\" Review\"][i].split(\">\")[1].split(\"</div\")[0]\n",
    "    except:\n",
    "        pass"
   ]
  },
  {
   "cell_type": "code",
   "execution_count": 22,
   "metadata": {},
   "outputs": [],
   "source": [
    "#df[\" Review\"]\n",
    "# get the average\n",
    "df[\" Review\"].astype(float).sum()/df[\" Review\"].count() # the average = 7.6\n",
    "# fill the average\n",
    "df[\" Review\"].fillna(\"7.6\", inplace=True)"
   ]
  },
  {
   "cell_type": "code",
   "execution_count": 23,
   "metadata": {},
   "outputs": [],
   "source": [
    "# clean Area\n",
    "df[\"Are\"] = df[\"Are\"].apply(lambda x: x.split(\"\\n\")[-2]) "
   ]
  },
  {
   "cell_type": "code",
   "execution_count": 24,
   "metadata": {},
   "outputs": [],
   "source": [
    "# clean price\n",
    "df[\" price\"] = df[\" price\"].apply(lambda x:x.split()[1])"
   ]
  },
  {
   "cell_type": "markdown",
   "metadata": {},
   "source": [
    "#  facilities"
   ]
  },
  {
   "cell_type": "code",
   "execution_count": 25,
   "metadata": {},
   "outputs": [],
   "source": [
    "# i look to my colums and see how i can clean it \n",
    "# df[\"facilities\"][0].split(\"<div\")[1].split(\"svg\")[-1].split(\"\\n\")[1]"
   ]
  },
  {
   "cell_type": "code",
   "execution_count": 26,
   "metadata": {},
   "outputs": [],
   "source": [
    "hotels = [] # to storge\n",
    "for hotel in range(len(df[\"facilities\"])):\n",
    "    hotel_facility = [] # to storge as list \n",
    "    for i in range(len(df[\"facilities\"][hotel].split(\"<div\"))):\n",
    "        try: # put try for if there are problem inside it  and except to pass the error \n",
    "            f = df[\"facilities\"][hotel].split(\"<div\")[i].split(\"svg\")[-1].split(\"\\n\")[1]\n",
    "            if f[0] != \">\" and f[0] != \"<\": # facilities has a  > < , i put this condition \n",
    "                hotel_facility.append(f)\n",
    "        except:\n",
    "            pass\n",
    "    hotels.append(hotel_facility) # to add in hotel_facility\n",
    "    hotel_facility = [] # for cleaning  "
   ]
  },
  {
   "cell_type": "code",
   "execution_count": 27,
   "metadata": {},
   "outputs": [],
   "source": [
    "hotels = []\n",
    "for facility in range(len(df[\"facilities\"])):\n",
    "    hotel_facility = []\n",
    "    for i in range(len(df[\"facilities\"][facility].split(\"<div\"))):\n",
    "        try: \n",
    "            fac = df[\"facilities\"][facility].split(\"<div\")[i].split(\"svg\")[-1].split(\"\\n\")[1]\n",
    "            if fac[0] != \"<\" and fac[0] != \">\":\n",
    "                hotel_facility.append(fac)\n",
    "        except:\n",
    "            pass\n",
    "        hotels.append(hotel_facility)\n",
    "        hotel_facility = []\n"
   ]
  },
  {
   "cell_type": "code",
   "execution_count": 28,
   "metadata": {},
   "outputs": [],
   "source": [
    "df[\"facilities\"] = pd.DataFrame({\"facilities\":hotels}) # here make replace for the old colum to anew colum (means clean colum)"
   ]
  },
  {
   "cell_type": "markdown",
   "metadata": {},
   "source": [
    "## Checklist facilites"
   ]
  },
  {
   "cell_type": "code",
   "execution_count": 29,
   "metadata": {},
   "outputs": [],
   "source": [
    "# i look to my colums and see how i can clean it\n",
    "#df[\"checklist_facilities\"][0].split(\"<div\")[n].split(\"svg\")[-1].split(\"\\n\") "
   ]
  },
  {
   "cell_type": "code",
   "execution_count": 30,
   "metadata": {},
   "outputs": [],
   "source": [
    "#l = df[\"checklist_facilities\"][0].split(\"<div\")[n].split(\"svg\")[-1].split(\"\\n\") \n",
    "# for item in l :\n",
    "  #          if \">\" not in item and \">\" not in item:\n",
    "  #              print(item) \n",
    " #  except:\n",
    "   #     pass \n",
    "   # print(\"_\"*10)\n"
   ]
  },
  {
   "cell_type": "code",
   "execution_count": 31,
   "metadata": {
    "scrolled": true
   },
   "outputs": [],
   "source": [
    "hotel_check = []\n",
    "for n in range(len(df[\"checklist_facilities\"][0].split(\"<div\"))):\n",
    "    z= \"\" # empty\n",
    "    try:\n",
    "        l = df[\"checklist_facilities\"][0].split(\"<div\")[n].split(\"svg\")[-1].split(\"\\n\")\n",
    "        for item in l :\n",
    "            if \">\" not in item and \">\" not in item:\n",
    "                if len(item) > 1:\n",
    "                    z+=item+\":\" # to add iteam (varible :value )\n",
    "        if len(z)> 0:\n",
    "            hotel_check.append(z)\n",
    "        z = \"\"\n",
    "    except:\n",
    "        pass\n",
    "    \n",
    "#print(hotel_check)\n",
    "    "
   ]
  },
  {
   "cell_type": "code",
   "execution_count": 32,
   "metadata": {},
   "outputs": [],
   "source": [
    "hotels_checklist = []\n",
    "for i in range(len(df[\"checklist_facilities\"])):\n",
    "    hotel_check = []\n",
    "    for n in range(len(df[\"checklist_facilities\"][i].split(\"<div\"))):\n",
    "        z = \"\"\n",
    "        try:\n",
    "            line = df[\"checklist_facilities\"][i].split(\"<div\")[n].split(\"svg\")[-1].split(\"\\n\")\n",
    "            for item in line:\n",
    "                if \"<\" not in item and \">\" not in item:\n",
    "                    if len(item) > 1:\n",
    "                        z+= item+\":\"\n",
    "            if len(z)> 0:\n",
    "                hotel_check.append(z)\n",
    "            z = \"\"\n",
    "        except:\n",
    "            pass\n",
    "    hotels_checklist.append(hotel_check)\n",
    "    hotel_check= []"
   ]
  },
  {
   "cell_type": "code",
   "execution_count": 33,
   "metadata": {},
   "outputs": [],
   "source": [
    "df[\"checklist_facilities\"] = pd.DataFrame({\"checklist_facilities\":hotels_checklist}) # here make replace for the old colum to anew colum (means clean colum)"
   ]
  },
  {
   "cell_type": "code",
   "execution_count": 34,
   "metadata": {},
   "outputs": [
    {
     "data": {
      "text/html": [
       "<div>\n",
       "<style scoped>\n",
       "    .dataframe tbody tr th:only-of-type {\n",
       "        vertical-align: middle;\n",
       "    }\n",
       "\n",
       "    .dataframe tbody tr th {\n",
       "        vertical-align: top;\n",
       "    }\n",
       "\n",
       "    .dataframe thead th {\n",
       "        text-align: right;\n",
       "    }\n",
       "</style>\n",
       "<table border=\"1\" class=\"dataframe\">\n",
       "  <thead>\n",
       "    <tr style=\"text-align: right;\">\n",
       "      <th></th>\n",
       "      <th>Hotel_name</th>\n",
       "      <th>Are</th>\n",
       "      <th>Review</th>\n",
       "      <th>price</th>\n",
       "      <th>url</th>\n",
       "      <th>facilities</th>\n",
       "      <th>checklist_facilities</th>\n",
       "      <th>city</th>\n",
       "    </tr>\n",
       "  </thead>\n",
       "  <tbody>\n",
       "    <tr>\n",
       "      <td>0</td>\n",
       "      <td>Madinah Mövenpick Hotel</td>\n",
       "      <td>350 m from center</td>\n",
       "      <td>7.6</td>\n",
       "      <td>599</td>\n",
       "      <td>https://booking.com/hotel/sa/madinah-movenpick...</td>\n",
       "      <td>[]</td>\n",
       "      <td>[Pets:Pets are not allowed.:, Food &amp;amp; Drink...</td>\n",
       "      <td>Madinah</td>\n",
       "    </tr>\n",
       "    <tr>\n",
       "      <td>1</td>\n",
       "      <td>Dar Al Hijra InterContinental</td>\n",
       "      <td>750 m from center</td>\n",
       "      <td>7.9</td>\n",
       "      <td>618</td>\n",
       "      <td>https://booking.com/hotel/sa/dar-al-hijra-inte...</td>\n",
       "      <td>[Family rooms]</td>\n",
       "      <td>[Outdoors:Outdoor furniture:, Pets:Pets are no...</td>\n",
       "      <td>Madinah</td>\n",
       "    </tr>\n",
       "    <tr>\n",
       "      <td>2</td>\n",
       "      <td>Al Madinah Harmony Hotel</td>\n",
       "      <td>750 m from center</td>\n",
       "      <td>7.2</td>\n",
       "      <td>440</td>\n",
       "      <td>https://booking.com/hotel/sa/al-madinah-harmon...</td>\n",
       "      <td>[Free WiFi]</td>\n",
       "      <td>[Pets:Pets are not allowed.:, Food &amp;amp; Drink...</td>\n",
       "      <td>Madinah</td>\n",
       "    </tr>\n",
       "    <tr>\n",
       "      <td>3</td>\n",
       "      <td>Millennium Madinah Airport</td>\n",
       "      <td>14 km from center</td>\n",
       "      <td>8.3</td>\n",
       "      <td>550</td>\n",
       "      <td>https://booking.com/hotel/sa/millennium-madina...</td>\n",
       "      <td>[Restaurant]</td>\n",
       "      <td>[Pets:Pets are not allowed.:, Food &amp;amp; Drink...</td>\n",
       "      <td>Madinah</td>\n",
       "    </tr>\n",
       "    <tr>\n",
       "      <td>4</td>\n",
       "      <td>Marina Palace Hotel</td>\n",
       "      <td>1.4 km from center</td>\n",
       "      <td>7.5</td>\n",
       "      <td>7,935</td>\n",
       "      <td>https://booking.com/hotel/sa/marina-palace.htm...</td>\n",
       "      <td>[Non-smoking rooms]</td>\n",
       "      <td>[Outdoors:Terrace:, Pets:Pets are not allowed....</td>\n",
       "      <td>Madinah</td>\n",
       "    </tr>\n",
       "  </tbody>\n",
       "</table>\n",
       "</div>"
      ],
      "text/plain": [
       "                      Hotel_name                 Are  Review  price  \\\n",
       "0        Madinah Mövenpick Hotel   350 m from center    7.6     599   \n",
       "1  Dar Al Hijra InterContinental   750 m from center    7.9     618   \n",
       "2       Al Madinah Harmony Hotel   750 m from center    7.2     440   \n",
       "3     Millennium Madinah Airport   14 km from center    8.3     550   \n",
       "4            Marina Palace Hotel  1.4 km from center    7.5   7,935   \n",
       "\n",
       "                                                 url           facilities  \\\n",
       "0  https://booking.com/hotel/sa/madinah-movenpick...                   []   \n",
       "1  https://booking.com/hotel/sa/dar-al-hijra-inte...       [Family rooms]   \n",
       "2  https://booking.com/hotel/sa/al-madinah-harmon...          [Free WiFi]   \n",
       "3  https://booking.com/hotel/sa/millennium-madina...         [Restaurant]   \n",
       "4  https://booking.com/hotel/sa/marina-palace.htm...  [Non-smoking rooms]   \n",
       "\n",
       "                                checklist_facilities     city  \n",
       "0  [Pets:Pets are not allowed.:, Food &amp; Drink...  Madinah  \n",
       "1  [Outdoors:Outdoor furniture:, Pets:Pets are no...  Madinah  \n",
       "2  [Pets:Pets are not allowed.:, Food &amp; Drink...  Madinah  \n",
       "3  [Pets:Pets are not allowed.:, Food &amp; Drink...  Madinah  \n",
       "4  [Outdoors:Terrace:, Pets:Pets are not allowed....  Madinah  "
      ]
     },
     "execution_count": 34,
     "metadata": {},
     "output_type": "execute_result"
    }
   ],
   "source": [
    "df.head()"
   ]
  },
  {
   "cell_type": "code",
   "execution_count": 35,
   "metadata": {},
   "outputs": [],
   "source": [
    "#df"
   ]
  },
  {
   "cell_type": "code",
   "execution_count": 36,
   "metadata": {},
   "outputs": [],
   "source": [
    "df.to_csv(\"booking_saudi_cities_cleaned.csv\")"
   ]
  }
 ],
 "metadata": {
  "kernelspec": {
   "display_name": "Python 3",
   "language": "python",
   "name": "python3"
  },
  "language_info": {
   "codemirror_mode": {
    "name": "ipython",
    "version": 3
   },
   "file_extension": ".py",
   "mimetype": "text/x-python",
   "name": "python",
   "nbconvert_exporter": "python",
   "pygments_lexer": "ipython3",
   "version": "3.7.6"
  }
 },
 "nbformat": 4,
 "nbformat_minor": 2
}
