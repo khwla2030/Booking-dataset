{
 "cells": [
  {
   "cell_type": "code",
   "execution_count": 1,
   "metadata": {},
   "outputs": [],
   "source": [
    "import requests\n",
    "import pandas as pd\n",
    "from bs4 import BeautifulSoup\n",
    "from time import sleep\n",
    "from selenium import webdriver\n",
    "import numpy as np\n",
    "from selenium.common.exceptions import NoSuchElementException"
   ]
  },
  {
   "cell_type": "code",
   "execution_count": 17,
   "metadata": {},
   "outputs": [],
   "source": [
    "def booking_city_information(pages_no,city_name,link): #  input for all \n",
    "    # create browser obj\n",
    "    Hotel_name=[]\n",
    "    Are=[]\n",
    "    price=[]\n",
    "    Review=[]\n",
    "    urls = [] # for get faility and chick list \n",
    "    driver = webdriver.Chrome(executable_path='chromedriver/chromedriver')\n",
    "    # request url\n",
    "    pages_gen = [str(i)for i in range(pages_no)] # gen \n",
    "    pages=[\"\"] + pages_gen[1:]  # )( &offset=25 معناتها ماتضيف شي  ) # from index 1\n",
    "    for page in pages:\n",
    "        if len(page) == 0: # if the pa = 0 (here i cant bring the lenight for int )\n",
    "            driver.get(link+page)\n",
    "        else:\n",
    "            driver.get(link+\"&offset={}\".format(25*int(page))) # [offset=25( control the pages)()]\n",
    "        sleep(3) # Delay execution for a given number of seconds to allow the page to be loaded.\n",
    "        html = driver.page_source # property/attribute -- Gets the source of the current page\n",
    "        #driver.close() # close the opened page once finish (if you need to download more pages, no need to close the driver)\n",
    "        soup = BeautifulSoup(html,'html')\n",
    "        item_list_P2 = soup.find_all('div',class_=\"sr_item_content\") # primary div\n",
    "        for i in item_list_P2:\n",
    "            Hotel_name.append(i.find('span', class_=\"sr-hotel__name\").text.strip())\n",
    "            Are.append(i.find('span', attrs={'data-bui-component': 'Tooltip'}))\n",
    "            Review.append(i.find('div', class_=\"bui-review-score__badge\"))\n",
    "            price.append (i.find('div', class_=\"bui-price-display__value prco-inline-block-maker-helper\").text)\n",
    "            urls.append(\"https://booking.com\" + (str(i.find('a',class_=\"hotel_name_link url\")).split(\"href\")[1].split(\"target\")[0].split(\"\\n\")[1]) )# here i need the link clean # stri(for fun spilt )\n",
    "            # herf for the tage of getting  link ( before the target index is 0)\n",
    "    driver.close() #clsoe it becu we dont need it (for all the data is storge in driver)\n",
    "    city = pd.DataFrame({\n",
    "                'Hotel_name': Hotel_name,\n",
    "                'Are': Are,\n",
    "               ' Review':Review,\n",
    "                ' price':price,\n",
    "                'url':urls\n",
    "                \n",
    "     })\n",
    "    city[\"facilities\"] = \"\" # to make a colum \n",
    "    city[\"checklist_facilities\"] = \"\"\n",
    "    city['city'] = city_name # to storg every city in name \n",
    "    for i, url in enumerate(city['url']): # enumerate back to you two value (one is number, second : is the inter in url), \n",
    "        get_facili = get_importnt_facilities(url)# each link and give imprtant facilities \n",
    "        city[\"facilities\"][i] = get_facili[0] # to get first failities and storge the valeu \n",
    "        city[\"checklist_facilities\"][i] = get_facili[1]\n",
    "        \n",
    "    city.to_csv('{}_{}.csv'.format(city_name,len(city)))  # sve it by name and len"
   ]
  },
  {
   "cell_type": "code",
   "execution_count": 2,
   "metadata": {},
   "outputs": [],
   "source": [
    "#a= ['a','b','c']\n",
    "#for i , url in enumerate (a):\n",
    " #  print (url)"
   ]
  },
  {
   "cell_type": "code",
   "execution_count": 15,
   "metadata": {},
   "outputs": [],
   "source": [
    "def get_importnt_facilities(link): # cell 2 \n",
    "    res =  requests.get(link)\n",
    "    HTML=res.text\n",
    "    soup1 = BeautifulSoup(res.text, 'html.parser')\n",
    "    item_list1 = soup1.find_all('div',class_=\"important_facility\")\n",
    "    important_facility = item_list1[:len(item_list1)//2] # divide by 2 bec it repeat two times and need integer\n",
    "    checklist = soup1.find_all('div',class_=\"facilitiesChecklistSection\")\n",
    "    return [important_facility , checklist]"
   ]
  },
  {
   "cell_type": "markdown",
   "metadata": {},
   "source": [
    "## Warning it takes time to get the results"
   ]
  },
  {
   "cell_type": "markdown",
   "metadata": {},
   "source": [
    "# Madinah"
   ]
  },
  {
   "cell_type": "code",
   "execution_count": 5,
   "metadata": {},
   "outputs": [],
   "source": [
    "Madinah = booking_city_information(pages_no=3,city_name=\"Madinah\",link=\"https://www.booking.com/searchresults.html?aid=397594&label=gog235jc-1DCAEoggI46AdIM1gDaMQBiAEBmAExuAEXyAEM2AED6AEB-AECiAIBqAIDuALnor70BcACAQ&sid=30620415f693478caae13cd1162c2862&tmpl=searchresults&checkin_month=5&checkin_monthday=10&checkin_year=2020&checkout_month=5&checkout_monthday=11&checkout_year=2020&city=-3092186&class_interval=1&dest_id=-3092186&dest_type=city&from_sf=2&group_adults=2&group_children=0&label_click=undef&no_rooms=1&raw_dest_type=city&room1=A%2CA&sb_price_type=total&shw_aparth=1&slp_r_match=0&src=searchresults&src_elem=sb&srpvid=9d4883fa353f00f4&ss=Medina&ssb=empty&ssne=Medina&ssne_untouched=Medina&top_ufis=1&rows=25\")"
   ]
  },
  {
   "cell_type": "markdown",
   "metadata": {},
   "source": [
    "# Makkah"
   ]
  },
  {
   "cell_type": "code",
   "execution_count": 19,
   "metadata": {},
   "outputs": [],
   "source": [
    "Makkah = booking_city_information(pages_no=4,city_name=\"Makkah\",link=\"https://www.booking.com/searchresults.ar.html?aid=376381&label=bookings-naam-2uTcbFKg71zdecKXPeifzQS267724713972%3Apl%3Ata%3Ap1%3Ap22%2C585%2C000%3Aac%3Aap%3Aneg%3Afi%3Atikwd-299768345418%3Alp9076757%3Ali%3Adec%3Adm%3Appccp%3DUmFuZG9tSVYkc2RlIyh9YV19IumoQ3O5HnTajxNh2ss&sid=30620415f693478caae13cd1162c2862&tmpl=searchresults&checkin_month=5&checkin_monthday=19&checkin_year=2020&checkout_month=5&checkout_monthday=20&checkout_year=2020&class_interval=1&dest_id=-3096949&dest_type=city&dtdisc=0&from_sf=1&group_adults=2&group_children=0&inac=0&index_postcard=0&label_click=undef&no_rooms=1&postcard=0&raw_dest_type=city&room1=A%2CA&sb_price_type=total&sb_travel_purpose=business&shw_aparth=1&slp_r_match=0&src=index&src_elem=sb&srpvid=d7698810e8f5010f&ss=%D9%85%D9%83%D9%87&ss_all=0&ssb=empty&sshis=0&ssne=%D8%A7%D9%84%D9%85%D8%AF%D9%8A%D9%86%D8%A9%20%D8%A7%D9%84%D9%85%D9%86%D9%88%D8%B1%D8%A9&ssne_untouched=%D8%A7%D9%84%D9%85%D8%AF%D9%8A%D9%86%D8%A9%20%D8%A7%D9%84%D9%85%D9%86%D9%88%D8%B1%D8%A9&top_ufis=1&rows=25\")"
   ]
  },
  {
   "cell_type": "markdown",
   "metadata": {},
   "source": [
    "# Taif"
   ]
  },
  {
   "cell_type": "code",
   "execution_count": 20,
   "metadata": {},
   "outputs": [],
   "source": [
    "Taif = booking_city_information(pages_no=3,city_name=\"Taif\",link=\"https://www.booking.com/searchresults.ar.html?aid=376381&label=bookings-naam-2uTcbFKg71zdecKXPeifzQS267724713972%3Apl%3Ata%3Ap1%3Ap22%2C585%2C000%3Aac%3Aap%3Aneg%3Afi%3Atikwd-299768345418%3Alp9076757%3Ali%3Adec%3Adm%3Appccp%3DUmFuZG9tSVYkc2RlIyh9YV19IumoQ3O5HnTajxNh2ss&sid=30620415f693478caae13cd1162c2862&tmpl=searchresults&ac_click_type=b&ac_position=0&checkin_month=5&checkin_monthday=19&checkin_year=2020&checkout_month=5&checkout_monthday=20&checkout_year=2020&class_interval=1&dest_id=-3093456&dest_type=city&dtdisc=0&from_sf=1&group_adults=2&group_children=0&iata=TIF&inac=0&index_postcard=0&label_click=undef&no_rooms=1&postcard=0&raw_dest_type=city&room1=A%2CA&sb_price_type=total&sb_travel_purpose=business&search_selected=1&shw_aparth=1&slp_r_match=0&src=index&src_elem=sb&srpvid=016e8afb8a9200cc&ss=%D8%A7%D9%84%D8%B7%D8%A7%D8%A6%D9%81%2C%20%D9%85%D9%86%D8%B7%D9%82%D8%A9%20%D9%85%D9%83%D8%A9%20%D8%A7%D9%84%D9%85%D9%83%D8%B1%D9%85%D8%A9%2C%20%D8%A7%D9%84%D9%85%D9%85%D9%84%D9%83%D8%A9%20%D8%A7%D9%84%D8%B9%D8%B1%D8%A8%D9%8A%D8%A9%20%D8%A7%D9%84%D8%B3%D8%B9%D9%88%D8%AF%D9%8A%D8%A9&ss_all=0&ss_raw=%D8%A7%D9%84%D8%B7&ssb=empty&sshis=0&ssne=%D8%AC%D8%AF%D8%A9&ssne_untouched=%D8%AC%D8%AF%D8%A9&top_ufis=1&rows=25\")"
   ]
  },
  {
   "cell_type": "markdown",
   "metadata": {},
   "source": [
    "# Jeddah"
   ]
  },
  {
   "cell_type": "code",
   "execution_count": null,
   "metadata": {},
   "outputs": [],
   "source": [
    "Jeddah = booking_city_information(pages_no=13,city_name=\"Jeddah\",link=\"https://www.booking.com/searchresults.ar.html?aid=376381&label=bookings-naam-2uTcbFKg71zdecKXPeifzQS267724713972%3Apl%3Ata%3Ap1%3Ap22%2C585%2C000%3Aac%3Aap%3Aneg%3Afi%3Atikwd-299768345418%3Alp9076757%3Ali%3Adec%3Adm%3Appccp%3DUmFuZG9tSVYkc2RlIyh9YV19IumoQ3O5HnTajxNh2ss&sid=30620415f693478caae13cd1162c2862&tmpl=searchresults&ac_click_type=b&ac_position=0&checkin_month=5&checkin_monthday=19&checkin_year=2020&checkout_month=5&checkout_monthday=20&checkout_year=2020&class_interval=1&dest_id=-3096108&dest_type=city&dtdisc=0&from_sf=1&group_adults=2&group_children=0&iata=JED&inac=0&index_postcard=0&label_click=undef&no_rooms=1&postcard=0&raw_dest_type=city&room1=A%2CA&sb_price_type=total&sb_travel_purpose=business&search_selected=1&shw_aparth=1&slp_r_match=0&src=index&src_elem=sb&srpvid=15088a72f0340008&ss=%D8%AC%D8%AF%D8%A9%2C%20%D9%85%D9%86%D8%B7%D9%82%D8%A9%20%D9%85%D9%83%D8%A9%20%D8%A7%D9%84%D9%85%D9%83%D8%B1%D9%85%D8%A9%2C%20%D8%A7%D9%84%D9%85%D9%85%D9%84%D9%83%D8%A9%20%D8%A7%D9%84%D8%B9%D8%B1%D8%A8%D9%8A%D8%A9%20%D8%A7%D9%84%D8%B3%D8%B9%D9%88%D8%AF%D9%8A%D8%A9&ss_all=0&ss_raw=%5B%5D&ssb=empty&sshis=0&ssne=%D9%85%D9%83%D8%A9%20%D8%A7%D9%84%D9%85%D9%83%D8%B1%D9%85%D8%A9&ssne_untouched=%D9%85%D9%83%D8%A9%20%D8%A7%D9%84%D9%85%D9%83%D8%B1%D9%85%D8%A9&top_ufis=1&rows=25\")"
   ]
  },
  {
   "cell_type": "markdown",
   "metadata": {},
   "source": [
    "# Dammam"
   ]
  },
  {
   "cell_type": "code",
   "execution_count": 5,
   "metadata": {},
   "outputs": [],
   "source": [
    "Dammam= booking_city_information(pages_no=3,city_name=\"Dammam\",link=\"https://www.booking.com/searchresults.ar.html?aid=376381&label=bookings-naam-2uTcbFKg71zdecKXPeifzQS267724713972%3Apl%3Ata%3Ap1%3Ap22%2C585%2C000%3Aac%3Aap%3Aneg%3Afi%3Atikwd-299768345418%3Alp9076757%3Ali%3Adec%3Adm%3Appccp%3DUmFuZG9tSVYkc2RlIyh9YV19IumoQ3O5HnTajxNh2ss&sid=30620415f693478caae13cd1162c2862&tmpl=searchresults&ac_click_type=b&ac_position=0&checkin_month=5&checkin_monthday=19&checkin_year=2020&checkout_month=5&checkout_monthday=20&checkout_year=2020&city=-3092086&class_interval=1&dest_id=-3091069&dest_type=city&dtdisc=0&from_sf=1&group_adults=2&group_children=0&iata=DMM&inac=0&index_postcard=0&label_click=undef&no_rooms=1&postcard=0&raw_dest_type=city&room1=A%2CA&sb_price_type=total&sb_travel_purpose=business&search_selected=1&shw_aparth=1&slp_r_match=0&src=searchresults&src_elem=sb&srpvid=c8018e063911003c&ss=%D8%A7%D9%84%D8%AF%D9%85%D8%A7%D9%85%2C%20%D8%A7%D9%84%D9%85%D9%86%D8%B7%D9%82%D8%A9%20%D8%A7%D9%84%D8%B4%D8%B1%D9%82%D9%8A%D8%A9%2C%20%D8%A7%D9%84%D9%85%D9%85%D9%84%D9%83%D8%A9%20%D8%A7%D9%84%D8%B9%D8%B1%D8%A8%D9%8A%D8%A9%20%D8%A7%D9%84%D8%B3%D8%B9%D9%88%D8%AF%D9%8A%D8%A9&ss_all=0&ss_raw=%D8%A7%D9%84%D8%AF%D9%85%D8%A7%D9%85&ssb=empty&sshis=0&ssne=%D8%A7%D9%84%D8%AE%D8%A8%D8%B1&ssne_untouched=%D8%A7%D9%84%D8%AE%D8%A8%D8%B1&top_ufis=1&rows=25\")"
   ]
  },
  {
   "cell_type": "markdown",
   "metadata": {},
   "source": [
    "# Yanbu"
   ]
  },
  {
   "cell_type": "code",
   "execution_count": 4,
   "metadata": {},
   "outputs": [],
   "source": [
    "Yanbu = booking_city_information(pages_no=3,city_name=\"Yanbu\",link=\"https://www.booking.com/searchresults.ar.html?aid=376381&label=bookings-naam-2uTcbFKg71zdecKXPeifzQS267724713972%3Apl%3Ata%3Ap1%3Ap22%2C585%2C000%3Aac%3Aap%3Aneg%3Afi%3Atikwd-299768345418%3Alp9076757%3Ali%3Adec%3Adm%3Appccp%3DUmFuZG9tSVYkc2RlIyh9YV19IumoQ3O5HnTajxNh2ss&sid=30620415f693478caae13cd1162c2862&tmpl=searchresults&ac_click_type=b&ac_position=0&checkin_month=5&checkin_monthday=19&checkin_year=2020&checkout_month=5&checkout_monthday=20&checkout_year=2020&city=-3091069&class_interval=1&dest_id=-3101071&dest_type=city&dtdisc=0&from_sf=1&group_adults=2&group_children=0&iata=YNB&inac=0&index_postcard=0&label_click=undef&no_rooms=1&postcard=0&raw_dest_type=city&room1=A%2CA&sb_price_type=total&sb_travel_purpose=business&search_selected=1&shw_aparth=1&slp_r_match=0&src=searchresults&src_elem=sb&srpvid=c8018e0815e20132&ss=%D9%8A%D9%86%D8%A8%D8%B9%2C%20%D9%85%D9%86%D8%B7%D9%82%D8%A9%20%D8%A7%D9%84%D9%85%D8%AF%D9%8A%D9%86%D8%A9%20%D8%A7%D9%84%D9%85%D9%86%D9%88%D8%B1%D8%A9%2C%20%D8%A7%D9%84%D9%85%D9%85%D9%84%D9%83%D8%A9%20%D8%A7%D9%84%D8%B9%D8%B1%D8%A8%D9%8A%D8%A9%20%D8%A7%D9%84%D8%B3%D8%B9%D9%88%D8%AF%D9%8A%D8%A9&ss_all=0&ss_raw=%D9%8A%D9%86%D8%A8%D8%B9&ssb=empty&sshis=0&ssne=%D8%A7%D9%84%D8%AF%D9%85%D8%A7%D9%85&ssne_untouched=%D8%A7%D9%84%D8%AF%D9%85%D8%A7%D9%85&top_ufis=1&rows=25\")"
   ]
  },
  {
   "cell_type": "markdown",
   "metadata": {},
   "source": [
    "# Khobar"
   ]
  },
  {
   "cell_type": "code",
   "execution_count": 4,
   "metadata": {},
   "outputs": [],
   "source": [
    "Khobar= booking_city_information(pages_no=5,city_name=\"Khobar\",link=\"https://www.booking.com/searchresults.ar.html?aid=376381&label=bookings-naam-2uTcbFKg71zdecKXPeifzQS267724713972%3Apl%3Ata%3Ap1%3Ap22%2C585%2C000%3Aac%3Aap%3Aneg%3Afi%3Atikwd-299768345418%3Alp9076757%3Ali%3Adec%3Adm%3Appccp%3DUmFuZG9tSVYkc2RlIyh9YV19IumoQ3O5HnTajxNh2ss&sid=30620415f693478caae13cd1162c2862&tmpl=searchresults&checkin_month=5&checkin_monthday=19&checkin_year=2020&checkout_month=5&checkout_monthday=20&checkout_year=2020&city=-3092086&class_interval=1&dest_id=-3092086&dest_type=city&dtdisc=0&from_sf=1&group_adults=2&group_children=0&inac=0&index_postcard=0&label_click=undef&no_rooms=1&postcard=0&room1=A%2CA&sb_price_type=total&sb_travel_purpose=business&shw_aparth=1&slp_r_match=0&src=searchresults&src_elem=sb&srpvid=08d14a5f54560043&ss=%D8%A7%D9%84%D8%AE%D8%A8%D8%B1&ss_all=0&ssb=empty&sshis=0&ssne=%D8%A7%D9%84%D8%AE%D8%A8%D8%B1&ssne_untouched=%D8%A7%D9%84%D8%AE%D8%A8%D8%B1&top_ufis=1&rows=25\")"
   ]
  },
  {
   "cell_type": "markdown",
   "metadata": {},
   "source": [
    "# Riyadh"
   ]
  },
  {
   "cell_type": "code",
   "execution_count": 8,
   "metadata": {},
   "outputs": [],
   "source": [
    "Riyadh = booking_city_information(pages_no=19,city_name=\"Riyadh\",link=\"https://www.booking.com/searchresults.ar.html?aid=376381&label=bookings-naam-2uTcbFKg71zdecKXPeifzQS267724713972%3Apl%3Ata%3Ap1%3Ap22%2C585%2C000%3Aac%3Aap%3Aneg%3Afi%3Atikwd-299768345418%3Alp9076757%3Ali%3Adec%3Adm%3Appccp%3DUmFuZG9tSVYkc2RlIyh9YV19IumoQ3O5HnTajxNh2ss&sid=30620415f693478caae13cd1162c2862&tmpl=searchresults&checkin_month=5&checkin_monthday=19&checkin_year=2020&checkout_month=5&checkout_monthday=20&checkout_year=2020&class_interval=1&dest_id=900040280&dest_type=city&dtdisc=0&from_sf=1&group_adults=2&group_children=0&inac=0&index_postcard=0&label_click=undef&no_rooms=1&postcard=0&room1=A%2CA&sb_price_type=total&sb_travel_purpose=business&search_pageview_id=3dd0866e05de00a2&shw_aparth=1&slp_r_match=0&src=index&src_elem=sb&srpvid=016e8b017271015b&ss=%D8%A7%D9%84%D8%B1%D9%8A%D8%A7%D8%B6&ss_all=0&ssb=empty&sshis=0&ssne=%D8%A7%D9%84%D8%B7%D8%A7%D8%A6%D9%81&ssne_untouched=%D8%A7%D9%84%D8%B7%D8%A7%D8%A6%D9%81&top_ufis=1&rows=25\")"
   ]
  },
  {
   "cell_type": "markdown",
   "metadata": {},
   "source": [
    "# save all cities in one file"
   ]
  },
  {
   "cell_type": "code",
   "execution_count": 7,
   "metadata": {},
   "outputs": [],
   "source": [
    "Riyadh = pd.read_csv(\"Riyadh_509.csv\")\n",
    "Khobar =  pd.read_csv(\"Khobar_125.csv\")\n",
    "Yanbu =  pd.read_csv(\"Yanbu_77.csv\")\n",
    "Dammam = pd.read_csv(\"Dammam_77.csv\")\n",
    "Jeddah = pd.read_csv(\"Jeddah_349.csv\")\n",
    "Taif = pd.read_csv(\"Taif_77.csv\")\n",
    "Makkah = pd.read_csv(\"Makkah_100.csv\")\n",
    "Madinah = pd.read_csv(\"Madinah_75.csv\")"
   ]
  },
  {
   "cell_type": "code",
   "execution_count": 14,
   "metadata": {},
   "outputs": [],
   "source": [
    "cities = Madinah.copy()# make a copy and storge in cities\n",
    "cities.append([Riyadh,Khobar,Yanbu,Dammam,Jeddah,Taif,Makkah]).to_csv(\"booking.com_saudi_cities.csv\")"
   ]
  },
  {
   "cell_type": "code",
   "execution_count": null,
   "metadata": {},
   "outputs": [],
   "source": []
  }
 ],
 "metadata": {
  "kernelspec": {
   "display_name": "Python 3",
   "language": "python",
   "name": "python3"
  },
  "language_info": {
   "codemirror_mode": {
    "name": "ipython",
    "version": 3
   },
   "file_extension": ".py",
   "mimetype": "text/x-python",
   "name": "python",
   "nbconvert_exporter": "python",
   "pygments_lexer": "ipython3",
   "version": "3.7.6"
  }
 },
 "nbformat": 4,
 "nbformat_minor": 2
}
